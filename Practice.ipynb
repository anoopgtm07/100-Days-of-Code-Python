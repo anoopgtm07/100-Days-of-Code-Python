{
 "cells": [
  {
   "cell_type": "code",
   "execution_count": 7,
   "id": "cd72ca4b",
   "metadata": {},
   "outputs": [
    {
     "name": "stdout",
     "output_type": "stream",
     "text": [
      "0\n"
     ]
    }
   ],
   "source": [
    "def recurs(n):\n",
    "    product = 1\n",
    "    for i in range(n+1):\n",
    "        product = product * i\n",
    "    print(product)\n",
    "recurs(100)\n",
    "        \n",
    "\t# Write your recursion here..."
   ]
  },
  {
   "cell_type": "code",
   "execution_count": null,
   "id": "02f70ed1",
   "metadata": {},
   "outputs": [],
   "source": []
  }
 ],
 "metadata": {
  "kernelspec": {
   "display_name": "Python 3 (ipykernel)",
   "language": "python",
   "name": "python3"
  },
  "language_info": {
   "codemirror_mode": {
    "name": "ipython",
    "version": 3
   },
   "file_extension": ".py",
   "mimetype": "text/x-python",
   "name": "python",
   "nbconvert_exporter": "python",
   "pygments_lexer": "ipython3",
   "version": "3.9.12"
  }
 },
 "nbformat": 4,
 "nbformat_minor": 5
}
