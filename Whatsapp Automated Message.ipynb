{
 "cells": [
  {
   "cell_type": "code",
   "execution_count": null,
   "id": "397f697d",
   "metadata": {},
   "outputs": [],
   "source": [
    "import pyautogui as pg #import required module\n",
    "import time #import time module\n",
    "\n",
    "\n",
    "print(\"program will run in 5 sec\") \n",
    "time.sleep(5) #time duration to execute the code\n",
    "\n",
    "for i in range(20):  #loop for twenty times \n",
    "    pg.write(\"Hello\")\n",
    "    time.sleep(0.5)\n",
    "    pg.press(\"enter\")\n",
    "\n",
    "#How to Use ?\n",
    "# Copy the code to text editor\n",
    "# Run the program and before the program starts(here i have set 5 sec) go to whatsapp go to text input section and press enter\n",
    "# The program sends the text messages "
   ]
  }
 ],
 "metadata": {
  "kernelspec": {
   "display_name": "Python 3 (ipykernel)",
   "language": "python",
   "name": "python3"
  },
  "language_info": {
   "codemirror_mode": {
    "name": "ipython",
    "version": 3
   },
   "file_extension": ".py",
   "mimetype": "text/x-python",
   "name": "python",
   "nbconvert_exporter": "python",
   "pygments_lexer": "ipython3",
   "version": "3.9.12"
  }
 },
 "nbformat": 4,
 "nbformat_minor": 5
}
