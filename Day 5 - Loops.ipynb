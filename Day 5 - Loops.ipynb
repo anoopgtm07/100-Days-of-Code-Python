{
 "cells": [
  {
   "cell_type": "markdown",
   "id": "412b8c05",
   "metadata": {},
   "source": [
    "# Calculating average height"
   ]
  },
  {
   "cell_type": "code",
   "execution_count": 3,
   "id": "ad704563",
   "metadata": {},
   "outputs": [
    {
     "name": "stdout",
     "output_type": "stream",
     "text": [
      "Input a list of student heights: 156 178 165 171 187\n",
      "The average height of students is: 171\n"
     ]
    }
   ],
   "source": [
    "student_heights = input(\"Input a list of student heights: \").split()\n",
    "for i in range(0, len(student_heights)):\n",
    "    student_heights[i] = int(student_heights[i])\n",
    "    \n",
    "total_height = 0\n",
    "for height in student_heights:\n",
    "    total_height = total_height + height\n",
    "# print(total_height)\n",
    "\n",
    "number_of_students = 0\n",
    "for student in student_heights:\n",
    "    number_of_students = number_of_students + 1\n",
    "# print(number_of_students)\n",
    "\n",
    "average_height = round(total_height/number_of_students)\n",
    "print(f\"The average height of students is: {average_height}\")"
   ]
  },
  {
   "cell_type": "markdown",
   "id": "416f3b4a",
   "metadata": {},
   "source": [
    "# Checking the Highest Score form the list"
   ]
  },
  {
   "cell_type": "code",
   "execution_count": 8,
   "id": "08869942",
   "metadata": {},
   "outputs": [
    {
     "name": "stdout",
     "output_type": "stream",
     "text": [
      "Enter a list of student scores: \n",
      "45 95 85 25\n",
      "The highest score is: 95\n"
     ]
    }
   ],
   "source": [
    "student_scores = (input(\"Enter a list of student scores: \\n\")).split()\n",
    "for n in range(0, len(student_scores)):\n",
    "    student_scores[n] = int(student_scores[n])\n",
    "    \n",
    "highest_score = student_scores[0]\n",
    "for score in student_scores:\n",
    "    if score > highest_score:\n",
    "        highest_score = score\n",
    "print(f\"The highest score is: {highest_score}\")\n",
    "        \n"
   ]
  },
  {
   "cell_type": "markdown",
   "id": "3263aec9",
   "metadata": {},
   "source": [
    "# Adding all even numbers in range"
   ]
  },
  {
   "cell_type": "code",
   "execution_count": 15,
   "id": "ffe425bf",
   "metadata": {},
   "outputs": [
    {
     "name": "stdout",
     "output_type": "stream",
     "text": [
      "2550\n"
     ]
    }
   ],
   "source": [
    "total = 0\n",
    "for even in range(0, 101, 2):\n",
    "    total += even\n",
    "print(total)"
   ]
  },
  {
   "cell_type": "markdown",
   "id": "df18c0a0",
   "metadata": {},
   "source": [
    "# Fizz Buzz Game"
   ]
  },
  {
   "cell_type": "code",
   "execution_count": 28,
   "id": "f59086a4",
   "metadata": {},
   "outputs": [
    {
     "name": "stdout",
     "output_type": "stream",
     "text": [
      "1\n",
      "2\n",
      "Fizz\n",
      "4\n",
      "Buzz\n",
      "Fizz\n",
      "7\n",
      "8\n",
      "Fizz\n",
      "Buzz\n",
      "11\n",
      "Fizz\n",
      "13\n",
      "14\n",
      "FizzBubzz\n",
      "16\n",
      "17\n",
      "Fizz\n",
      "19\n",
      "Buzz\n",
      "Fizz\n",
      "22\n",
      "23\n",
      "Fizz\n",
      "Buzz\n",
      "26\n",
      "Fizz\n",
      "28\n",
      "29\n",
      "FizzBubzz\n",
      "31\n",
      "32\n",
      "Fizz\n",
      "34\n",
      "Buzz\n",
      "Fizz\n",
      "37\n",
      "38\n",
      "Fizz\n",
      "Buzz\n",
      "41\n",
      "Fizz\n",
      "43\n",
      "44\n",
      "FizzBubzz\n",
      "46\n",
      "47\n",
      "Fizz\n",
      "49\n",
      "Buzz\n",
      "Fizz\n",
      "52\n",
      "53\n",
      "Fizz\n",
      "Buzz\n",
      "56\n",
      "Fizz\n",
      "58\n",
      "59\n",
      "FizzBubzz\n",
      "61\n",
      "62\n",
      "Fizz\n",
      "64\n",
      "Buzz\n",
      "Fizz\n",
      "67\n",
      "68\n",
      "Fizz\n",
      "Buzz\n",
      "71\n",
      "Fizz\n",
      "73\n",
      "74\n",
      "FizzBubzz\n",
      "76\n",
      "77\n",
      "Fizz\n",
      "79\n",
      "Buzz\n",
      "Fizz\n",
      "82\n",
      "83\n",
      "Fizz\n",
      "Buzz\n",
      "86\n",
      "Fizz\n",
      "88\n",
      "89\n",
      "FizzBubzz\n",
      "91\n",
      "92\n",
      "Fizz\n",
      "94\n",
      "Buzz\n",
      "Fizz\n",
      "97\n",
      "98\n",
      "Fizz\n",
      "Buzz\n"
     ]
    }
   ],
   "source": [
    "for i in range(1, 101):\n",
    "    if i%3 == 0 and i % 5 == 0:\n",
    "        print(\"FizzBubzz\")\n",
    "    elif i%3 == 0:\n",
    "        print(\"Fizz\")\n",
    "    elif i%5 == 0:\n",
    "        print(\"Buzz\")\n",
    "    else:\n",
    "        print(i)"
   ]
  },
  {
   "cell_type": "markdown",
   "id": "8f422c64",
   "metadata": {},
   "source": [
    "# Password Generator"
   ]
  },
  {
   "cell_type": "code",
   "execution_count": 31,
   "id": "2eb686eb",
   "metadata": {},
   "outputs": [
    {
     "name": "stdout",
     "output_type": "stream",
     "text": [
      "Welcome to the PyPassword Generator!\n",
      "How many letters would you like in your password?\n",
      "5\n",
      "How many symbols would you like?\n",
      "5\n",
      "How many numbers would you like?\n",
      "5\n",
      "FoVeq%(%#&22822\n"
     ]
    }
   ],
   "source": [
    "#Password Generator Project\n",
    "#Eazy Level - Order not randomised:\n",
    "#e.g. 4 letter, 2 symbol, 2 number = JduE&!91\n",
    "\n",
    "import random\n",
    "letters = ['a', 'b', 'c', 'd', 'e', 'f', 'g', 'h', 'i', 'j', 'k', 'l', 'm', 'n', 'o', 'p', 'q', 'r', 's', 't', 'u', 'v', 'w', 'x', 'y', 'z', 'A', 'B', 'C', 'D', 'E', 'F', 'G', 'H', 'I', 'J', 'K', 'L', 'M', 'N', 'O', 'P', 'Q', 'R', 'S', 'T', 'U', 'V', 'W', 'X', 'Y', 'Z']\n",
    "numbers = ['0', '1', '2', '3', '4', '5', '6', '7', '8', '9']\n",
    "symbols = ['!', '#', '$', '%', '&', '(', ')', '*', '+']\n",
    "\n",
    "print(\"Welcome to the PyPassword Generator!\")\n",
    "nr_letters= int(input(\"How many letters would you like in your password?\\n\")) \n",
    "nr_symbols = int(input(f\"How many symbols would you like?\\n\"))\n",
    "nr_numbers = int(input(f\"How many numbers would you like?\\n\"))\n",
    "\n",
    "password = \"\"\n",
    "for char in range(0, nr_letters):\n",
    "    password += random.choice(letters)\n",
    "for symbol in range(0, nr_symbols):\n",
    "    password += random.choice(symbols)\n",
    "for number in range(0, nr_numbers):\n",
    "    password += random.choice(numbers)\n",
    "print(password)\n",
    "\n"
   ]
  },
  {
   "cell_type": "code",
   "execution_count": 7,
   "id": "8cd2a02a",
   "metadata": {},
   "outputs": [
    {
     "name": "stdout",
     "output_type": "stream",
     "text": [
      "Welcome to the PyPassword Generator!\n",
      "How many letters would you like in your password?\n",
      "6\n",
      "How many symbols would you like?\n",
      "2\n",
      "How many numbers would you like?\n",
      "4\n",
      "Your password is: n97W#JP4xy)0\n"
     ]
    }
   ],
   "source": [
    "#Password Generator Project\n",
    "#Hard Level - Order  randomised:\n",
    "#e.g. 5 letter, 4 symbol, 1 number = &&zQ!zT$V7\n",
    "import random\n",
    "letters = ['a', 'b', 'c', 'd', 'e', 'f', 'g', 'h', 'i', 'j', 'k', 'l', 'm', 'n', 'o', 'p', 'q', 'r', 's', 't', 'u', 'v', 'w', 'x', 'y', 'z', 'A', 'B', 'C', 'D', 'E', 'F', 'G', 'H', 'I', 'J', 'K', 'L', 'M', 'N', 'O', 'P', 'Q', 'R', 'S', 'T', 'U', 'V', 'W', 'X', 'Y', 'Z']\n",
    "numbers = ['0', '1', '2', '3', '4', '5', '6', '7', '8', '9']\n",
    "symbols = ['!', '#', '$', '%', '&', '(', ')', '*', '+']\n",
    "\n",
    "print(\"Welcome to the PyPassword Generator!\")\n",
    "nr_letters= int(input(\"How many letters would you like in your password?\\n\")) \n",
    "nr_symbols = int(input(f\"How many symbols would you like?\\n\"))\n",
    "nr_numbers = int(input(f\"How many numbers would you like?\\n\"))\n",
    "\n",
    "\n",
    "password_list = []\n",
    "for i in range(nr_letters):\n",
    " password_list.append(random.choice(letters))\n",
    "\n",
    "for i in range(nr_symbols):\n",
    "  password_list.append(random.choice(symbols))\n",
    "\n",
    "for i in range(nr_numbers):\n",
    "  password_list.append(random.choice(numbers))\n",
    "\n",
    "random.shuffle(password_list)\n",
    "\n",
    "final_password = \"\".join(password_list)\n",
    "print(f\"Your password is: {final_password}\")"
   ]
  }
 ],
 "metadata": {
  "kernelspec": {
   "display_name": "Python 3 (ipykernel)",
   "language": "python",
   "name": "python3"
  },
  "language_info": {
   "codemirror_mode": {
    "name": "ipython",
    "version": 3
   },
   "file_extension": ".py",
   "mimetype": "text/x-python",
   "name": "python",
   "nbconvert_exporter": "python",
   "pygments_lexer": "ipython3",
   "version": "3.9.12"
  }
 },
 "nbformat": 4,
 "nbformat_minor": 5
}
