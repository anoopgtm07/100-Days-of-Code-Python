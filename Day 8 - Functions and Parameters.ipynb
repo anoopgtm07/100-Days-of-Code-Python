{
 "cells": [
  {
   "cell_type": "code",
   "execution_count": 3,
   "id": "f6980f27",
   "metadata": {},
   "outputs": [
    {
     "name": "stdout",
     "output_type": "stream",
     "text": [
      "Height of the wall: 3\n",
      "Width of the wall: 9\n",
      "You need 6 cans to paint.\n"
     ]
    }
   ],
   "source": [
    "#Wap to calculate the number of cans to be used calculating the area of the wall\n",
    "import math\n",
    "\n",
    "def paint_calc(height, width, cover):\n",
    "    area = height * width\n",
    "    cans = math.ceil(area / cover)\n",
    "    print(f\"You need {cans} cans to paint.\")\n",
    "\n",
    "    \n",
    "test_h = int(input(\"Height of the wall: \"))\n",
    "test_w = int(input(\"Width of the wall: \"))\n",
    "coverage = 5\n",
    "\n",
    "paint_calc(height= test_h, width = test_w, cover = coverage)\n",
    "    \n",
    "\n",
    "\n"
   ]
  },
  {
   "cell_type": "code",
   "execution_count": 16,
   "id": "9444a62d",
   "metadata": {},
   "outputs": [
    {
     "name": "stdout",
     "output_type": "stream",
     "text": [
      "Check this number: 9999991\n",
      "IT's a prime number.\n"
     ]
    }
   ],
   "source": [
    "#wap to check a prime number\n",
    "\n",
    "def prime_checker(number):\n",
    "    is_prime = True\n",
    "    for i in range(2, number-1):\n",
    "        if number % i == 0:\n",
    "            is_prime = False\n",
    "    if is_prime == True:\n",
    "        print(\"IT's a prime number.\")\n",
    "    else:\n",
    "        print(\"It's not a prime number.\")\n",
    "    \n",
    "\n",
    "n = int(input(\"Check this number: \"))\n",
    "prime_checker(number = n)"
   ]
  },
  {
   "cell_type": "code",
   "execution_count": null,
   "id": "1b1fc13a",
   "metadata": {},
   "outputs": [],
   "source": [
    "#Final Project Caesar Cipher\n"
   ]
  }
 ],
 "metadata": {
  "kernelspec": {
   "display_name": "Python 3 (ipykernel)",
   "language": "python",
   "name": "python3"
  },
  "language_info": {
   "codemirror_mode": {
    "name": "ipython",
    "version": 3
   },
   "file_extension": ".py",
   "mimetype": "text/x-python",
   "name": "python",
   "nbconvert_exporter": "python",
   "pygments_lexer": "ipython3",
   "version": "3.9.12"
  }
 },
 "nbformat": 4,
 "nbformat_minor": 5
}
