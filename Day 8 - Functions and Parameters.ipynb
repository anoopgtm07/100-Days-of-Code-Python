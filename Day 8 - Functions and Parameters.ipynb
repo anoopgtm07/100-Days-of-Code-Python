{
 "cells": [
  {
   "cell_type": "code",
   "execution_count": 3,
   "id": "f6980f27",
   "metadata": {},
   "outputs": [
    {
     "name": "stdout",
     "output_type": "stream",
     "text": [
      "Height of the wall: 3\n",
      "Width of the wall: 9\n",
      "You need 6 cans to paint.\n"
     ]
    }
   ],
   "source": [
    "#Wap to calculate the number of cans to be used calculating the area of the wall\n",
    "import math\n",
    "\n",
    "def paint_calc(height, width, cover):\n",
    "    area = height * width\n",
    "    cans = math.ceil(area / cover)\n",
    "    print(f\"You need {cans} cans to paint.\")\n",
    "\n",
    "    \n",
    "test_h = int(input(\"Height of the wall: \"))\n",
    "test_w = int(input(\"Width of the wall: \"))\n",
    "coverage = 5\n",
    "\n",
    "paint_calc(height= test_h, width = test_w, cover = coverage)\n",
    "    \n",
    "\n",
    "\n"
   ]
  },
  {
   "cell_type": "code",
   "execution_count": 16,
   "id": "9444a62d",
   "metadata": {},
   "outputs": [
    {
     "name": "stdout",
     "output_type": "stream",
     "text": [
      "Check this number: 9999991\n",
      "IT's a prime number.\n"
     ]
    }
   ],
   "source": [
    "#wap to check a prime number\n",
    "\n",
    "def prime_checker(number):\n",
    "    is_prime = True\n",
    "    for i in range(2, number-1):\n",
    "        if number % i == 0:\n",
    "            is_prime = False\n",
    "    if is_prime == True:\n",
    "        print(\"IT's a prime number.\")\n",
    "    else:\n",
    "        print(\"It's not a prime number.\")\n",
    "    \n",
    "\n",
    "n = int(input(\"Check this number: \"))\n",
    "prime_checker(number = n)"
   ]
  },
  {
   "cell_type": "code",
   "execution_count": 3,
   "id": "1b1fc13a",
   "metadata": {},
   "outputs": [
    {
     "name": "stdout",
     "output_type": "stream",
     "text": [
      "Type 'encode' to encrypt, type 'decode' to decrypt:\n",
      "encode\n",
      "Type your message:\n",
      "zxcv\n",
      "Type the shift number:\n",
      "1\n",
      "The text message is : aydw.\n"
     ]
    }
   ],
   "source": [
    "#Final Project Caesar Cipher\n",
    "\n",
    "\n",
    "alphabet = ['a', 'b', 'c', 'd', 'e', 'f', 'g', 'h', 'i', 'j', 'k', 'l', 'm', 'n', 'o', 'p', 'q', 'r', 's', 't', 'u', 'v', 'w', 'x', 'y', 'z','a', 'b', 'c', 'd', 'e', 'f', 'g', 'h', 'i', 'j', 'k', 'l', 'm', 'n', 'o', 'p', 'q', 'r', 's', 't', 'u', 'v', 'w', 'x', 'y', 'z']\n",
    "\n",
    "direction = input(\"Type 'encode' to encrypt, type 'decode' to decrypt:\\n\")\n",
    "text = input(\"Type your message:\\n\").lower()\n",
    "shift = int(input(\"Type the shift number:\\n\"))\n",
    "\n",
    "\n",
    "def encrypt(plain_text, shift_number):\n",
    "    encrypted_text = ''\n",
    "    for letter in plain_text:\n",
    "        position = alphabet.index(letter)\n",
    "        new_position = position + shift_number\n",
    "        new_alphabet = alphabet[new_position]\n",
    "        encrypted_text = encrypted_text + new_alphabet\n",
    "    print(f\"The text message is : {encrypted_text}.\")\n",
    "    \n",
    "\n",
    "encrypt(plain_text = text, shift_number = shift)\n"
   ]
  },
  {
   "cell_type": "code",
   "execution_count": null,
   "id": "f0df8ebb",
   "metadata": {},
   "outputs": [],
   "source": [
    "alphabet = [\n",
    "    'a', 'b', 'c', 'd', 'e', 'f', 'g', 'h', 'i', 'j', 'k', 'l', 'm', 'n', 'o',\n",
    "    'p', 'q', 'r', 's', 't', 'u', 'v', 'w', 'x', 'y', 'z', 'a', 'b', 'c', 'd',\n",
    "    'e', 'f', 'g', 'h', 'i', 'j', 'k', 'l', 'm', 'n', 'o', 'p', 'q', 'r', 's',\n",
    "    't', 'u', 'v', 'w', 'x', 'y', 'z'\n",
    "]\n",
    "\n",
    "direction = input(\"Type 'encode' to encrypt, type 'decode' to decrypt:\\n\")\n",
    "text = input(\"Type your message:\\n\").lower()\n",
    "shift = int(input(\"Type the shift number:\\n\"))\n",
    "\n",
    "\n",
    "def encrypt(plain_text, shift_amount):\n",
    "    cipher_text = \"\"\n",
    "    for letter in plain_text:\n",
    "        position = alphabet.index(letter)\n",
    "        new_position = position + shift_amount\n",
    "        cipher_text += alphabet[new_position]\n",
    "    print(f\"The encoded text is {cipher_text}\")\n",
    "\n",
    "\n",
    "#TODO-1: Create a different function called 'decrypt' that takes the 'text' and 'shift' as inputs.\n",
    "def decrypt(encrypted_text, shift_amount):\n",
    "    plain_text = ''\n",
    "    for letter in encrypted_text:\n",
    "        position = alphabet.index(letter)\n",
    "        new_position = position - shift_amount\n",
    "        plain_text = plain_text + alphabet[new_position]\n",
    "    print(f\"The decoded text is {plain_text}.\")\n",
    "\n",
    "    #TODO-2: Inside the 'decrypt' function, shift each letter of the 'text' *backwards* in the alphabet by the shift amount and print the decrypted text.\n",
    "    #e.g.\n",
    "    #cipher_text = \"mjqqt\"\n",
    "    #shift = 5\n",
    "    #plain_text = \"hello\"\n",
    "    #print output: \"The decoded text is hello\"\n",
    "\n",
    "\n",
    "if direction == \"encode\":\n",
    "    encrypt(plain_text=text, shift_amount=shift)\n",
    "elif direction == \"decode\":\n",
    "    decrypt(encrypted_text=text, shift_amount=shift)\n",
    "else:\n",
    "    print(\"Please enter valid response.\")\n",
    "\n",
    "#TODO-3: Check if the user wanted to encrypt or decrypt the message by checking the 'direction' variable. Then call the correct function based on that 'drection' variable. You should be able to test the code to encrypt *AND* decrypt a message.\n",
    "\n"
   ]
  },
  {
   "cell_type": "code",
   "execution_count": 1,
   "id": "5218ef98",
   "metadata": {},
   "outputs": [
    {
     "name": "stdout",
     "output_type": "stream",
     "text": [
      "Type 'encode' to encrypt, type 'decode' to decrypt:\n",
      "encode\n",
      "Type your message:\n",
      "hello123\n",
      "Type the shift number:\n",
      "80\n",
      "Here's the encoded result: mjqqt123\n",
      "Type 'yes' to rerun and 'no' to quit the program.yes\n",
      "Type 'encode' to encrypt, type 'decode' to decrypt:\n",
      "decode\n",
      "Type your message:\n",
      "mjqqt123\n",
      "Type the shift number:\n",
      "80\n",
      "Here's the decoded result: hello123\n",
      "Type 'yes' to rerun and 'no' to quit the program.no\n",
      "GoodBye!\n"
     ]
    }
   ],
   "source": [
    "alphabet = ['a', 'b', 'c', 'd', 'e', 'f', 'g', 'h', 'i', 'j', 'k', 'l', 'm', 'n', 'o', 'p', 'q', 'r', 's', 't', 'u', 'v', 'w', 'x', 'y', 'z', 'a', 'b', 'c', 'd', 'e', 'f', 'g', 'h', 'i', 'j', 'k', 'l', 'm', 'n', 'o', 'p', 'q', 'r', 's', 't', 'u', 'v', 'w', 'x', 'y', 'z']\n",
    "\n",
    "def caesar(start_text, shift_amount, cipher_direction):\n",
    "  end_text = \"\"\n",
    "  if cipher_direction == \"decode\":\n",
    "    shift_amount *= -1\n",
    "  for char in start_text:\n",
    "    if char in alphabet:\n",
    "      position = alphabet.index(char)\n",
    "      new_position = position + shift_amount\n",
    "      end_text += alphabet[new_position]\n",
    "    else:\n",
    "      end_text = end_text + char\n",
    "   \n",
    "  print(f\"Here's the {cipher_direction}d result: {end_text}\")\n",
    "\n",
    "repeat = True\n",
    "while repeat:\n",
    "  direction = input(\"Type 'encode' to encrypt, type 'decode' to decrypt:\\n\")\n",
    "  text = input(\"Type your message:\\n\").lower()\n",
    "  shift = int(input(\"Type the shift number:\\n\"))\n",
    "  shift = shift % 25\n",
    "  caesar(start_text=text, shift_amount=shift, cipher_direction=direction)\n",
    "\n",
    "  result = input(\"Type 'yes' to rerun and 'no' to quit the program.\")\n",
    "  if result == 'no':\n",
    "    repeat = False\n",
    "    print(\"GoodBye!\")\n",
    "  \n",
    "\n",
    "#TODO-2: What if the user enters a shift that is greater than the number of letters in the alphabet?\n",
    "#Try running the program and entering a shift number of 45.\n",
    "#Add some code so that the program continues to work even if the user enters a shift number greater than 26. \n",
    "#Hint: Think about how you can use the modulus (%).\n",
    "\n",
    "#TODO-3: What happens if the user enters a number/symbol/space?\n",
    "#Can you fix the code to keep the number/symbol/space when the text is encoded/decoded?\n",
    "    #e.g. start_text = \"meet me at 3\"\n",
    "    #end_text = \"•••• •• •• 3\"\n",
    "    \n",
    "#TODO-4: Can you figure out a way to ask the user if they want to restart the cipher program?\n",
    "#e.g. Type 'yes' if you want to go again. Otherwise type 'no'.\n",
    "#If they type 'yes' then ask them for the direction/text/shift again and call the caesar() function again?\n",
    "#Hint: Try creating a while loop that continues to execute the program if the user types 'yes'. \n",
    "   \n"
   ]
  },
  {
   "cell_type": "code",
   "execution_count": null,
   "id": "e0493677",
   "metadata": {},
   "outputs": [],
   "source": []
  }
 ],
 "metadata": {
  "kernelspec": {
   "display_name": "Python 3 (ipykernel)",
   "language": "python",
   "name": "python3"
  },
  "language_info": {
   "codemirror_mode": {
    "name": "ipython",
    "version": 3
   },
   "file_extension": ".py",
   "mimetype": "text/x-python",
   "name": "python",
   "nbconvert_exporter": "python",
   "pygments_lexer": "ipython3",
   "version": "3.9.12"
  }
 },
 "nbformat": 4,
 "nbformat_minor": 5
}
