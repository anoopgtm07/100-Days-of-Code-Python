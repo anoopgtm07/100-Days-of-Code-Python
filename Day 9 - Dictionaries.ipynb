{
 "cells": [
  {
   "cell_type": "code",
   "execution_count": 9,
   "id": "c837f122",
   "metadata": {},
   "outputs": [
    {
     "name": "stdout",
     "output_type": "stream",
     "text": [
      "[{'country': 'Nepal', 'cities_visited': ['Kathmandu', 'Pokhara', 'Butwal'], 'total_visits': 5}, {'country': 'India', 'cities_visited': 'Bihar', 'total_visits': 1}]\n"
     ]
    }
   ],
   "source": [
    "#Nesting dictionary in a distionary\n",
    "#Travel Log Dictionary\n",
    "travel_log = {\n",
    "    \"Nepal\" : {\"cities_visited\" : [\"Kathmandu\", \"Pokhara\", \"Butwal\"], \"total_visits\" : 5},\n",
    "    \"India\" : {\"cities_visited\" : \"Bihar\", \"total_visits\" : 1}\n",
    "}\n",
    "\n",
    "#Nesting Dictionary in a List\n",
    "travel_logs = [\n",
    "    {\"country\" : \"Nepal\", \n",
    "     \"cities_visited\" :  [\"Kathmandu\", \"Pokhara\", \"Butwal\"], \n",
    "     \"total_visits\" : 5},\n",
    "    {\"country\" : \"India\", \n",
    "     \"cities_visited\" : \"Bihar\", \n",
    "     \"total_visits\" : 1}\n",
    "]\n",
    "\n",
    "print(travel_logs)"
   ]
  },
  {
   "cell_type": "code",
   "execution_count": null,
   "id": "110d8476",
   "metadata": {},
   "outputs": [],
   "source": [
    "student_scores = {\n",
    "  \"Harry\": 81,\n",
    "  \"Ron\": 78,\n",
    "  \"Hermione\": 99, \n",
    "  \"Draco\": 74,\n",
    "  \"Neville\": 62,\n",
    "}\n",
    "# 🚨 Don't change the code above 👆\n",
    "\n",
    "#TODO-1: Create an empty dictionary called student_grades.\n",
    "\n",
    "student_grades = {}\n",
    "#TODO-2: Write your code below to add the grades to student_grades.👇\n",
    "\n",
    "for student in student_scores:\n",
    "  score = student_scores[student]\n",
    "  if score > 90:\n",
    "    student_grades[student] = 'Outstanding'\n",
    "  elif score > 80:\n",
    "    student_grades[student] = 'Exceeds expectation'\n",
    "  elif score > 70:\n",
    "    student_grades[student] = 'Acceptable'\n",
    "  else:\n",
    "    student_grades[student] = 'Fail'\n",
    " \n",
    "\n",
    "# 🚨 Don't change the code below 👇\n",
    "print(student_grades)\n"
   ]
  },
  {
   "cell_type": "code",
   "execution_count": 10,
   "id": "c913f200",
   "metadata": {},
   "outputs": [
    {
     "name": "stdout",
     "output_type": "stream",
     "text": [
      "[{'country': 'France', 'visits': 12, 'cities': ['Paris', 'Lille', 'Dijon']}, {'country': 'Germany', 'visits': 5, 'cities': ['Berlin', 'Hamburg', 'Stuttgart']}, {'country': 'Russia', 'visits': 2, 'cities': ['Moscow', 'Saint Petersburg']}]\n"
     ]
    }
   ],
   "source": [
    "#You are going to write a program that adds to a `travel_log`. You can see a travel_log which is a **List** that contains 2 **Dictionaries**. \n",
    "\n",
    "#Write a function that will work with the following line of code on line 21 to add the entry for Russia to the `travel_log`. \n",
    "\n",
    "travel_log = [\n",
    "{\n",
    "  \"country\": \"France\",\n",
    "  \"visits\": 12,\n",
    "  \"cities\": [\"Paris\", \"Lille\", \"Dijon\"]\n",
    "},\n",
    "{\n",
    "  \"country\": \"Germany\",\n",
    "  \"visits\": 5,\n",
    "  \"cities\": [\"Berlin\", \"Hamburg\", \"Stuttgart\"]\n",
    "},\n",
    "]\n",
    "\n",
    "def add_new_country(country_visited, times_visited, cities_visited):\n",
    "  new_travel = {}\n",
    "  new_travel['country'] = country_visited\n",
    "  new_travel['visits'] = times_visited\n",
    "  new_travel['cities'] = cities_visited\n",
    "\n",
    "  travel_log.append(new_travel)\n",
    "\n",
    "add_new_country(\"Russia\", 2, [\"Moscow\", \"Saint Petersburg\"])\n",
    "print(travel_log)\n"
   ]
  },
  {
   "cell_type": "code",
   "execution_count": 12,
   "id": "db4c85af",
   "metadata": {},
   "outputs": [
    {
     "ename": "ModuleNotFoundError",
     "evalue": "No module named 'clear'",
     "output_type": "error",
     "traceback": [
      "\u001b[1;31m---------------------------------------------------------------------------\u001b[0m",
      "\u001b[1;31mModuleNotFoundError\u001b[0m                       Traceback (most recent call last)",
      "Input \u001b[1;32mIn [12]\u001b[0m, in \u001b[0;36m<cell line: 3>\u001b[1;34m()\u001b[0m\n\u001b[0;32m      1\u001b[0m \u001b[38;5;66;03m#bidding Game 1\u001b[39;00m\n\u001b[1;32m----> 3\u001b[0m \u001b[38;5;28;01mimport\u001b[39;00m \u001b[38;5;21;01mclear\u001b[39;00m\n\u001b[0;32m      4\u001b[0m \u001b[38;5;66;03m#HINT: You can call clear() to clear the output in the console.\u001b[39;00m\n\u001b[0;32m      6\u001b[0m \u001b[38;5;28;01mdef\u001b[39;00m \u001b[38;5;21mhighest_bidder\u001b[39m(bidding_record):\n",
      "\u001b[1;31mModuleNotFoundError\u001b[0m: No module named 'clear'"
     ]
    }
   ],
   "source": [
    "#bidding Game 1\n",
    "\n",
    "from replit import clear\n",
    "#HINT: You can call clear() to clear the output in the console.\n",
    "\n",
    "def highest_bidder(bidding_record):\n",
    "  highest_bid = 0\n",
    "  winner = ''\n",
    "  for bidder in bidding_record:\n",
    "    bid_amount = bidding_record[bidder]\n",
    "    if bid_amount > highest_bid:\n",
    "      highest_bid = bid_amount\n",
    "      winner = bidder\n",
    "  print(f\"The winner is {winner} with bid of ${highest_bid}.\")\n",
    "  \n",
    "bids ={}\n",
    "while True:\n",
    "  name = input('What is your name?\\n ')\n",
    "  bid = int(input('What is your bid? \\n$ '))\n",
    "  bids[name] = bid\n",
    "  ask = input(\"Any other bidders ? Type 'y' for yes and 'n' for no.\\n\")\n",
    "  if ask == 'y':\n",
    "    clear()\n",
    "    continue\n",
    "  else:\n",
    "    break\n",
    "#print(bids)\n",
    "highest_bidder(bids)\n",
    "  \n",
    "# high_bid = bids.values()\n",
    "# max_bid = max(high_bid)\n",
    "# print(f\"The highest bid is: {max_bid}\")\n",
    "# print(bids)\n",
    "\n",
    "    "
   ]
  }
 ],
 "metadata": {
  "kernelspec": {
   "display_name": "Python 3 (ipykernel)",
   "language": "python",
   "name": "python3"
  },
  "language_info": {
   "codemirror_mode": {
    "name": "ipython",
    "version": 3
   },
   "file_extension": ".py",
   "mimetype": "text/x-python",
   "name": "python",
   "nbconvert_exporter": "python",
   "pygments_lexer": "ipython3",
   "version": "3.9.12"
  }
 },
 "nbformat": 4,
 "nbformat_minor": 5
}
