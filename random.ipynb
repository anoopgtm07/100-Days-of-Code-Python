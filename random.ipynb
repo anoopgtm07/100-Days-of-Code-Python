{
 "cells": [
  {
   "cell_type": "code",
   "execution_count": 13,
   "id": "99ebf04e",
   "metadata": {},
   "outputs": [
    {
     "name": "stdout",
     "output_type": "stream",
     "text": [
      "Enter amount in dollar: 1000\n",
      "Rate of exchange: 125\n"
     ]
    },
    {
     "data": {
      "text/plain": [
       "125000"
      ]
     },
     "execution_count": 13,
     "metadata": {},
     "output_type": "execute_result"
    }
   ],
   "source": [
    "# WAP to currency_converter with functions\n",
    "\n",
    "def conversion(dollar, rate):\n",
    "    nc = dollar * rate\n",
    "    return nc\n",
    "    \n",
    "d = int(input(\"Enter amount in dollar: \"))\n",
    "r = int(input(\"Rate of exchange: \"))\n",
    "\n",
    "\n",
    "conversion(d, r)\n",
    "\n",
    "\n",
    "\n"
   ]
  },
  {
   "cell_type": "code",
   "execution_count": 14,
   "id": "81410c1d",
   "metadata": {},
   "outputs": [
    {
     "name": "stdout",
     "output_type": "stream",
     "text": [
      "Enter a password: python\n",
      "Sorry, Try Again.\n",
      "Enter a password: python1\n",
      "Sorry, Try Again.\n",
      "Enter a password: python2\n",
      "Sorry, Try Again.\n",
      "Enter a password: python123\n",
      "You are logged in.\n"
     ]
    }
   ],
   "source": [
    "password = ''\n",
    "while password != 'python123':\n",
    "    password = input(\"Enter a password: \")\n",
    "    if password == 'python123':\n",
    "        print(\"You are logged in.\")\n",
    "    else:\n",
    "        print(\"Sorry, Try Again.\")"
   ]
  }
 ],
 "metadata": {
  "kernelspec": {
   "display_name": "Python 3 (ipykernel)",
   "language": "python",
   "name": "python3"
  },
  "language_info": {
   "codemirror_mode": {
    "name": "ipython",
    "version": 3
   },
   "file_extension": ".py",
   "mimetype": "text/x-python",
   "name": "python",
   "nbconvert_exporter": "python",
   "pygments_lexer": "ipython3",
   "version": "3.9.12"
  }
 },
 "nbformat": 4,
 "nbformat_minor": 5
}
