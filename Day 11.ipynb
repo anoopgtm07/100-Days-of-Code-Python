{
 "cells": [
  {
   "cell_type": "code",
   "execution_count": 7,
   "id": "1c9110ec",
   "metadata": {},
   "outputs": [
    {
     "name": "stdout",
     "output_type": "stream",
     "text": [
      "   Your cards: [10, 2], current score: 12\n",
      "   Computer's first card: 4\n",
      "Do you want to continue? Type 'y' for yes and 'n' for no: y\n",
      "   Your cards: [10, 2, 9], current score: 21\n",
      "   Computer's first card: 4\n",
      "Do you want to continue? Type 'y' for yes and 'n' for no: n\n"
     ]
    },
    {
     "data": {
      "text/plain": [
       "'Opponent went over. You Win!'"
      ]
     },
     "execution_count": 7,
     "metadata": {},
     "output_type": "execute_result"
    }
   ],
   "source": [
    "import random\n",
    "def deal_card():\n",
    "    cards = [11, 2, 3, 4, 5, 6, 7, 8, 9, 10, 10, 10, 10]\n",
    "    card = random.choice(cards)\n",
    "    return card\n",
    "\n",
    "def calculate_score(cards):\n",
    "    if sum(cards) == 21 and len(cards) == 2:\n",
    "        return 0\n",
    "    if 11 in cards and sum(cards) > 21:\n",
    "        cards.remove(11)\n",
    "        cards.append(1)\n",
    "    return sum(cards)\n",
    "\n",
    "def compare(user_score, computer_score):\n",
    "    if user_score == computer_score:\n",
    "        return \"It's a Draw!\"\n",
    "    elif computer_score == 0:\n",
    "        return \"You Lose! Opponent has a Blackjack.\"\n",
    "    elif user_score == 0:\n",
    "        return \"You win!\"\n",
    "    elif user_score > 21:\n",
    "        return \"You went over. You Lose!\"\n",
    "    elif computer_score > 21:\n",
    "        return \"Opponent went over. You Win!\"\n",
    "    elif user_score > computer_score:\n",
    "        return \"You Win!\"\n",
    "    else:\n",
    "        return \"You Lose!\"\n",
    "\n",
    "user_cards = []\n",
    "computer_cards = []\n",
    "is_game_over = False\n",
    "for i in range(2):\n",
    "    user_cards.append(deal_card())\n",
    "    computer_cards.append(deal_card())\n",
    "\n",
    "while not is_game_over:\n",
    "    user_score = calculate_score(user_cards)\n",
    "    computer_score = calculate_score(computer_cards)\n",
    "    print(f\"   Your cards: {user_cards}, current score: {user_score}\")\n",
    "    print(f\"   Computer's first card: {computer_cards[0]}\")\n",
    "    \n",
    "    if user_score == 0 or computer_score == 0 or user_score > 21:\n",
    "        is_game_over = True\n",
    "    else:\n",
    "        user_choice = input(\"Do you want to continue? Type 'y' for yes and 'n' for no: \")\n",
    "        if user_choice == 'y':\n",
    "            user_cards.append(deal_card())\n",
    "        else:\n",
    "            is_game_over = True\n",
    "\n",
    "while computer_score != 0 and computer_score < 17:\n",
    "    computer_cards.append(deal_card())\n",
    "    computer_score = calculate_score(computer_cards)\n",
    "\n",
    "compare(user_score, computer_score)       \n",
    "    "
   ]
  },
  {
   "cell_type": "code",
   "execution_count": null,
   "id": "170f9cf3",
   "metadata": {},
   "outputs": [],
   "source": []
  },
  {
   "cell_type": "code",
   "execution_count": null,
   "id": "c84add71",
   "metadata": {},
   "outputs": [],
   "source": []
  },
  {
   "cell_type": "code",
   "execution_count": null,
   "id": "771605a8",
   "metadata": {},
   "outputs": [],
   "source": []
  },
  {
   "cell_type": "code",
   "execution_count": null,
   "id": "8daf5d41",
   "metadata": {},
   "outputs": [],
   "source": []
  }
 ],
 "metadata": {
  "kernelspec": {
   "display_name": "Python 3 (ipykernel)",
   "language": "python",
   "name": "python3"
  },
  "language_info": {
   "codemirror_mode": {
    "name": "ipython",
    "version": 3
   },
   "file_extension": ".py",
   "mimetype": "text/x-python",
   "name": "python",
   "nbconvert_exporter": "python",
   "pygments_lexer": "ipython3",
   "version": "3.9.12"
  }
 },
 "nbformat": 4,
 "nbformat_minor": 5
}
