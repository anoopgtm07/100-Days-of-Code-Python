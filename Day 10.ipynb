{
 "cells": [
  {
   "cell_type": "code",
   "execution_count": null,
   "id": "8efc0d55",
   "metadata": {},
   "outputs": [],
   "source": [
    "def is_leap(year):\n",
    "  if year % 4 == 0:\n",
    "    if year % 100 == 0:\n",
    "      if year % 400 == 0:\n",
    "        return True\n",
    "      else:\n",
    "        return False\n",
    "    else:\n",
    "      return True\n",
    "  else:\n",
    "    return False\n",
    "\n",
    "def days_in_month(year, month):\n",
    "  month_days = [31, 28, 31, 30, 31, 30, 31, 31, 30, 31, 30, 31]  \n",
    "  if is_leap(year) and month == 2:\n",
    "    return 29\n",
    "  return month_days[month-1]\n",
    "  \n",
    "  \n",
    "#🚨 Do NOT change any of the code below \n",
    "year = int(input(\"Enter a year: \"))\n",
    "month = int(input(\"Enter a month: \"))\n",
    "days = days_in_month(year, month)\n",
    "print(days)\n"
   ]
  },
  {
   "cell_type": "code",
   "execution_count": null,
   "id": "f8c9177d",
   "metadata": {},
   "outputs": [
    {
     "name": "stdout",
     "output_type": "stream",
     "text": [
      "What is the first number: 5\n",
      "+\n",
      "-\n",
      "*\n",
      "/\n",
      "Pick an operator to calculate: +\n",
      "What is the next number: 4\n",
      "5 + 4 = 9\n",
      "Type 'y' to continue calculation and 'n' to abort: y\n",
      "Pick an operator to calculate: *\n",
      "What is the next number: 10\n",
      "9 * 10 = 90\n",
      "Type 'y' to continue calculation and 'n' to abort: y\n",
      "Pick an operator to calculate: -\n",
      "What is the next number: 10\n",
      "90 - 10 = 80\n",
      "Type 'y' to continue calculation and 'n' to abort: y\n",
      "Pick an operator to calculate: /\n",
      "What is the next number: 10\n",
      "80 / 10 = 8.0\n"
     ]
    }
   ],
   "source": [
    "# A mini Calculator\n",
    "def add(n1, n2):\n",
    "  return n1 + n2\n",
    "\n",
    "def substract(n1, n2):\n",
    "  return n1 - n2\n",
    "\n",
    "def multiply(n1, n2):\n",
    "  return n1 * n2\n",
    "\n",
    "def divide(n1, n2):\n",
    "  return n1 / n2\n",
    "\n",
    "operations = {\n",
    "        '+' : add,\n",
    "        '-' : substract,\n",
    "        '*' : multiply,\n",
    "        '/' : divide\n",
    "      }\n",
    "\n",
    "def calculator():\n",
    "  num1 = float(input(\"What is the first number: \"))\n",
    "  \n",
    "  for symbol in operations:\n",
    "    print(symbol)\n",
    "  \n",
    "  should_continue = True\n",
    "  \n",
    "  while should_continue:\n",
    "    operator = input(\"Pick an operator to calculate: \")\n",
    "    num2 = float(input(\"What is the next number: \"))\n",
    "    calculation_function = operations[operator]\n",
    "    result = calculation_function(num1, num2)\n",
    "    print(f\"{num1} {operator} {num2} = {result}\")\n",
    "  \n",
    "    user_choice = input(\"Type 'y' to continue calculation and 'n' to abort and 's' to start a new calculation: \")\n",
    "    if user_choice == 'y':\n",
    "      num1 = result\n",
    "    elif user_choice == 's':\n",
    "      calculator()\n",
    "    else:\n",
    "      should_continue = False\n",
    "\n",
    "calculator()"
   ]
  },
  {
   "cell_type": "code",
   "execution_count": null,
   "id": "723f0a8f",
   "metadata": {},
   "outputs": [],
   "source": []
  }
 ],
 "metadata": {
  "kernelspec": {
   "display_name": "Python 3 (ipykernel)",
   "language": "python",
   "name": "python3"
  },
  "language_info": {
   "codemirror_mode": {
    "name": "ipython",
    "version": 3
   },
   "file_extension": ".py",
   "mimetype": "text/x-python",
   "name": "python",
   "nbconvert_exporter": "python",
   "pygments_lexer": "ipython3",
   "version": "3.9.12"
  }
 },
 "nbformat": 4,
 "nbformat_minor": 5
}
