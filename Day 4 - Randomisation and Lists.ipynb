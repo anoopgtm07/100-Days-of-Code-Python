{
 "cells": [
  {
   "cell_type": "code",
   "execution_count": 4,
   "id": "7806f842",
   "metadata": {},
   "outputs": [
    {
     "name": "stdout",
     "output_type": "stream",
     "text": [
      "4\n"
     ]
    }
   ],
   "source": [
    "import random\n",
    "random_integer = random.randint(1, 10)\n",
    "print(random_integer)"
   ]
  },
  {
   "cell_type": "markdown",
   "id": "9d417628",
   "metadata": {},
   "source": [
    "# Coin Toss Heads or Tails"
   ]
  },
  {
   "cell_type": "code",
   "execution_count": 8,
   "id": "155be274",
   "metadata": {},
   "outputs": [
    {
     "name": "stdout",
     "output_type": "stream",
     "text": [
      "create a seed number: 52\n",
      "Heads\n"
     ]
    }
   ],
   "source": [
    "import random\n",
    "test_seed = int(input(\"create a seed number: \"));\n",
    "random.seed(test_seed)\n",
    "random_side = random.randint(0, 1)\n",
    "if random_side == 1:\n",
    "    print(\"Heads\")\n",
    "else:\n",
    "    print(\"Tails\")\n"
   ]
  },
  {
   "cell_type": "markdown",
   "id": "d5f35ed7",
   "metadata": {},
   "source": [
    "# Bill Sharing"
   ]
  },
  {
   "cell_type": "code",
   "execution_count": 31,
   "id": "f2412ad7",
   "metadata": {},
   "outputs": [
    {
     "name": "stdout",
     "output_type": "stream",
     "text": [
      "create a seed number: 456\n",
      "Give me everybody's names: a, s, d, f, g\n",
      "f is going to pay the meal today\n"
     ]
    }
   ],
   "source": [
    "import random\n",
    "test_seed = int(input(\"create a seed number: \"))\n",
    "random.seed(test_seed)\n",
    "\n",
    "nameAsCSV = input(\"Give me everybody's names: \")\n",
    "names = nameAsCSV.split(\", \")\n",
    "num_items = len(names)\n",
    "random_choice = random.randint(0, num_items-1)\n",
    "person_who_will_pay = names[random_choice]\n",
    "print(f\"{person_who_will_pay} is going to pay the meal today\")\n",
    "\n"
   ]
  },
  {
   "cell_type": "markdown",
   "id": "0111ea3a",
   "metadata": {},
   "source": [
    "# Treasure Map"
   ]
  },
  {
   "cell_type": "code",
   "execution_count": 1,
   "id": "2d4e6c5d",
   "metadata": {},
   "outputs": [
    {
     "name": "stdout",
     "output_type": "stream",
     "text": [
      "['⬜️', '⬜️', '⬜️']\n",
      "['⬜️', '⬜️', '⬜️']\n",
      "['⬜️', '⬜️', '⬜️']\n",
      "Where do you want to put the treasure? 23\n",
      "['⬜️', '⬜️', '⬜️']\n",
      "['⬜️', '⬜️', '⬜️']\n",
      "['⬜️', 'X', '⬜️']\n"
     ]
    }
   ],
   "source": [
    "row1 = [\"⬜️\",\"⬜️\",\"⬜️\"]\n",
    "row2 = [\"⬜️\",\"⬜️\",\"⬜️\"]\n",
    "row3 = [\"⬜️\",\"⬜️\",\"⬜️\"]\n",
    "map = [row1, row2, row3]\n",
    "print(f\"{row1}\\n{row2}\\n{row3}\")\n",
    "position = input(\"Where do you want to put the treasure? \")\n",
    "\n",
    "horizontal = int(position[0])\n",
    "vertical = int(position[1])\n",
    "\n",
    "selected_row = map[vertical - 1]\n",
    "selected_row[horizontal -1] = \"X\"\n",
    "\n",
    "print(f\"{row1}\\n{row2}\\n{row3}\")"
   ]
  },
  {
   "cell_type": "markdown",
   "id": "45e922a0",
   "metadata": {},
   "source": [
    "# Rock Paper Scissors"
   ]
  },
  {
   "cell_type": "code",
   "execution_count": 2,
   "id": "9ee47ff3",
   "metadata": {},
   "outputs": [
    {
     "name": "stdout",
     "output_type": "stream",
     "text": [
      "Enter 1 for rock, 2 for paper and 3 for Scissors: \n",
      "3\n",
      "\n",
      "    _______\n",
      "---'   ____)____\n",
      "          ______)\n",
      "       __________)\n",
      "      (____)\n",
      "---.__(___)\n",
      "\n",
      "Computer chose: 1\n",
      "\n",
      "    _______\n",
      "---'   ____)\n",
      "      (_____)\n",
      "      (_____)\n",
      "      (____)\n",
      "---.__(___)\n",
      "\n",
      "You Lose!\n"
     ]
    }
   ],
   "source": [
    "import random\n",
    "rock = '''\n",
    "    _______\n",
    "---'   ____)\n",
    "      (_____)\n",
    "      (_____)\n",
    "      (____)\n",
    "---.__(___)\n",
    "'''\n",
    "\n",
    "paper = '''\n",
    "    _______\n",
    "---'   ____)____\n",
    "          ______)\n",
    "          _______)\n",
    "         _______)\n",
    "---.__________)\n",
    "'''\n",
    "\n",
    "scissors = '''\n",
    "    _______\n",
    "---'   ____)____\n",
    "          ______)\n",
    "       __________)\n",
    "      (____)\n",
    "---.__(___)\n",
    "'''\n",
    "a = \"b\"\n",
    "\n",
    "game_images = [a, rock, paper, scissors]\n",
    "user_input = int(input(\"Enter 1 for rock, 2 for paper and 3 for Scissors: \\n\"))\n",
    "print(game_images[user_input])\n",
    "computer_choice = random.randint(1, 3)\n",
    "print(f\"Computer chose: {computer_choice}\")\n",
    "print(game_images[computer_choice])\n",
    "if user_input == 1 and computer_choice == 3:\n",
    "  print(\"You Win!\")\n",
    "elif user_input == 1 and computer_choice == 2:\n",
    "  print(\"You Lose!\")\n",
    "elif user_input == 2 and computer_choice == 1:\n",
    "  print(\"You Win!\")\n",
    "elif user_input == 2 and computer_choice == 3:\n",
    "  print(\"You Lose!\")\n",
    "elif user_input == 3 and computer_choice == 1:\n",
    "  print(\"You Lose!\")\n",
    "elif user_input == 3 and computer_choice == 2:\n",
    "  print(\"You Win!\")\n",
    "elif user_input == computer_choice:\n",
    "  print(\"I'ts a draw.\")\n",
    "else:\n",
    "  print(\"You typed an invalid number. You Lose!\")"
   ]
  }
 ],
 "metadata": {
  "kernelspec": {
   "display_name": "Python 3 (ipykernel)",
   "language": "python",
   "name": "python3"
  },
  "language_info": {
   "codemirror_mode": {
    "name": "ipython",
    "version": 3
   },
   "file_extension": ".py",
   "mimetype": "text/x-python",
   "name": "python",
   "nbconvert_exporter": "python",
   "pygments_lexer": "ipython3",
   "version": "3.9.12"
  }
 },
 "nbformat": 4,
 "nbformat_minor": 5
}
